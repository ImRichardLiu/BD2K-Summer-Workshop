{
 "cells": [
  {
   "cell_type": "code",
   "execution_count": 1,
   "metadata": {
    "collapsed": false
   },
   "outputs": [
    {
     "name": "stdout",
     "output_type": "stream",
     "text": [
      "Protein: MYPDHL*\n"
     ]
    }
   ],
   "source": [
    "# Mutation exercise\n",
    "from random import sample\n",
    "interesting_aas = {'P', 'F', 'E', 'I', 'L', 'H', 'D', 'W', 'Y', 'R'}\n",
    "bag = {key: aa for key, aa in zip(sample(range(1, 11), 10), interesting_aas)}\n",
    "guesses = [1, 2, 3, 4, 5,]\n",
    "print 'Protein: M{}*'.format(''.join(bag[g] for g in guesses))"
   ]
  }
 ],
 "metadata": {
  "kernelspec": {
   "display_name": "Python 2",
   "language": "python",
   "name": "python2"
  },
  "language_info": {
   "codemirror_mode": {
    "name": "ipython",
    "version": 2
   },
   "file_extension": ".py",
   "mimetype": "text/x-python",
   "name": "python",
   "nbconvert_exporter": "python",
   "pygments_lexer": "ipython2",
   "version": "2.7.12"
  }
 },
 "nbformat": 4,
 "nbformat_minor": 0
}
