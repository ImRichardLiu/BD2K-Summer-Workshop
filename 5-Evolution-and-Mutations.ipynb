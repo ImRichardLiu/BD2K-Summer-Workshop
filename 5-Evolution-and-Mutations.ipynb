{
 "cells": [
  {
   "cell_type": "markdown",
   "metadata": {
    "collapsed": true
   },
   "source": [
    "<img src=images/ucsc_banner.png width=500>"
   ]
  },
  {
   "cell_type": "markdown",
   "metadata": {},
   "source": [
    "## Natural Selection\n",
    "\n",
    "<img src=images/natural_selection.png>\n",
    "[src](http://evolution.berkeley.edu/evolibrary/article/evo_25)"
   ]
  },
  {
   "cell_type": "markdown",
   "metadata": {},
   "source": [
    "## DNA\n",
    "<img src=images/cell_dna.png>\n",
    "*https://upload.wikimedia.org/wikipedia/commons/thumb/e/e2/Eukaryote_DNA-en.svg/2000px-Eukaryote_DNA-en.svg.png\n",
    " \n",
    "## Gene Structure\n",
    "<img src=images/orf_start_stop.jpg>\n",
    "*http://images.slideplayer.com/19/5750865/slides/slide_22.jpg\n",
    "\n",
    "<img src=images/centraldogma.jpg>\n",
    "*http://www.lhsc.on.ca/_images/Genetics/centraldogma.jpg\n",
    "\n",
    "\n",
    "## Mutations\n",
    "\n",
    "<img src=images/point_mutation.png width=\"250\">\n",
    "[src](http://rosalind.info/media/point_mutation.png)\n",
    "\n",
    "<img src=images/mutation_types.png>\n",
    "[src](https://upload.wikimedia.org/wikipedia/commons/6/69/Point_mutations-en.png)\n",
    "\n",
    "<img src=images/block_mutations_med.jpeg>\n",
    "[src](http://www.vce.bioninja.com.au/_Media/block_mutations_med.jpeg)\n",
    "\n",
    "<img src=images/genetic_code.jpeg>\n",
    "[src](http://www.vce.bioninja.com.au/_Media/genetic_code_med.jpeg)"
   ]
  },
  {
   "cell_type": "code",
   "execution_count": 40,
   "metadata": {
    "collapsed": false
   },
   "outputs": [
    {
     "name": "stdout",
     "output_type": "stream",
     "text": [
      "Protein: MPWEDR*\n"
     ]
    }
   ],
   "source": [
    "# Mutation exercise\n",
    "from random import sample\n",
    "interesting_aas = {'P', 'F', 'E', 'I', 'L', 'H', 'D', 'W', 'Y', 'R'}\n",
    "bag = {key: aa for key, aa in zip(sample(range(1, 11), 10), interesting_aas)}\n",
    "guesses = [1, 2, 3, 4, 5,]\n",
    "print 'Protein: M{}*'.format(''.join(bag[g] for g in guesses))"
   ]
  },
  {
   "cell_type": "markdown",
   "metadata": {},
   "source": [
    "## Introduction to the dataset\n",
    "\n",
    "Microbes are ideal organisms for exploring 'Long-term Evolution Experiments' (LTEEs) - thousands of generations can be generated and stored in a way that would be virtually impossible for more complex eukaryotic systems. In Blount et al 2012, 12 populations of Escherichia coli were propagated for more than 40,000 generations in a glucose-limited minimal medium. This medium was supplemented with citrate which E. coli cannot metabolize in the aerobic conditions of the experiment.\n",
    "\n",
    "<img src=images/citric_acid.png>\n",
    "\n",
    "\n",
    "Sequencing of the populations at regular time points reveals that spontaneous citrate-using mutants (Cit+) appeared in a population of E.coli (designated Ara-3) at around 31,000 generations. It should be noted that spontaneous Cit+ mutants are extraordinarily rare - inability to metabolize citrate is one of the defining characters of the E. coli species. Eventually, Cit+ mutants became the dominant population as the experimental growth medium contained a high concentration of citrate relative to glucose.\n",
    "\n",
    "Strains from generation 0 to generation 40,000 were sequenced, including ones that were both Cit+ and Cit- after generation 31,000.\n",
    "\n",
    "We want to be able to look at the genome size to see if there is a difference between genome size and the Cit status of the strain. We also want to analyze the sequences to figure out what changes occurred in genomes to make the strains Cit+.\n",
    "\n",
    "   1. What is the distribution of genome sizes for all the strains?\n",
    "       \n",
    "      The distribution is bimodal at 4.63 and 4.78. It is not a normals distribution. The Cit+ strains average at 4.75 and the Cit- or unknown strains average at 4.63.\n",
    "      \n",
    "   2. Is there a relationship between genome size and Cit status?\n",
    "      \n",
    "      It seems to be that in order for E. Coli to be Cit+, the genome size has to be about 0.15 longer. This could possibly be because Cit+ E. Coli have extra DNA and codons in order to produce a protein or chemical that lets them metabolize in citrus environments.\n",
    "      \n",
    "   3. How many base pair changes are there between the Cit+ and Cit- strains?\n",
    "  \n",
    "   4. What are the base pair changes between strains?\n",
    "\n",
    "**Reference**\n",
    "Blount, Z.D., Barrick, J.E., Davidson, C.J., Lenski, R.E. Genomic analysis of a key innovation in an experimental Escherichia coli population (2012) Nature, 489 (7417), pp. 513-518.\n",
    "Data on NCBI SRA: http://www.ncbi.nlm.nih.gov/sra?term=SRA026813\n",
    "\n",
    "Using materials from: http://www.datacarpentry.org/introduction-genomics/01-intro-to-dataset.html\n"
   ]
  },
  {
   "cell_type": "markdown",
   "metadata": {},
   "source": [
    "## Use a pandas dataframe to analyze E. coli data\n",
    "\n",
    "1. What is the mean and standard deviation for genome size in Cit+ bacteria. \n",
    "2. What is the mean and standard deviation for genome sizes in Cit- or Cit unknown bacteria?"
   ]
  },
  {
   "cell_type": "code",
   "execution_count": 41,
   "metadata": {
    "collapsed": false
   },
   "outputs": [
    {
     "name": "stdout",
     "output_type": "stream",
     "text": [
      "Overall mean: 4.66266666667\n",
      "Cit+ mean: 4.76888888889\n",
      "Cit- mean: 4.61444444444\n",
      "Cit unknown mean: 4.61916666667\n",
      "Cit - and unknown mean: 4.61714285714\n",
      "\n",
      "\n",
      "Overall standard deviation: 0.0732936151584\n",
      "Cit+ standard deviation: 0.0226077666104\n",
      "Cit- standard deviation: 0.0133333333333\n",
      "Cit unknown standard deviation: 0.0215146180045\n",
      "Cit - and unknown standard deviation: 0.0182051797967\n"
     ]
    }
   ],
   "source": [
    "import pandas as pd\n",
    "from numpy import mean, std\n",
    "from IPython.core.display import HTML\n",
    "css = open('style-table.css').read() + open('style-notebook.css').read()\n",
    "HTML('<style>{}</style>'.format(css))\n",
    "data = pd.DataFrame.from_csv('data/ecoli_cit.csv', index_col=None)\n",
    "print \"Overall mean:\",\n",
    "print data.genome_size.mean()\n",
    "print \"Cit+ mean:\",\n",
    "print data[data.cit=='plus'].genome_size.mean()\n",
    "print \"Cit- mean:\",\n",
    "print data[data.cit=='minus'].genome_size.mean()\n",
    "print \"Cit unknown mean:\",\n",
    "print data[data.cit=='unknown'].genome_size.mean()\n",
    "print \"Cit - and unknown mean:\",\n",
    "print data[data.cit!='plus'].genome_size.mean()\n",
    "print \"\"\n",
    "print \"\"\n",
    "print \"Overall standard deviation:\",\n",
    "print data.genome_size.std()\n",
    "print \"Cit+ standard deviation:\",\n",
    "print data[data.cit=='plus'].genome_size.std()\n",
    "print \"Cit- standard deviation:\",\n",
    "print data[data.cit=='minus'].genome_size.std()\n",
    "print \"Cit unknown standard deviation:\",\n",
    "print data[data.cit=='unknown'].genome_size.std()\n",
    "print \"Cit - and unknown standard deviation:\",\n",
    "print data[data.cit!='plus'].genome_size.std()\n"
   ]
  },
  {
   "cell_type": "markdown",
   "metadata": {},
   "source": [
    "Is there a relationship between genome size and Cit status?\n",
    "* Are Cit+ and Cit- genome sizes statistically different? "
   ]
  },
  {
   "cell_type": "code",
   "execution_count": 68,
   "metadata": {
    "collapsed": false
   },
   "outputs": [
    {
     "data": {
      "text/plain": [
       "Ttest_indResult(statistic=-17.65301765302652, pvalue=6.4959188034384765e-12)"
      ]
     },
     "execution_count": 68,
     "metadata": {},
     "output_type": "execute_result"
    }
   ],
   "source": [
    "from scipy.stats import ttest_ind\n",
    "ttest_ind(data[data.cit=='minus'].genome_size, data[data.cit=='plus'].genome_size)"
   ]
  },
  {
   "cell_type": "markdown",
   "metadata": {},
   "source": [
    "Using these results, develop a hypothesis for how these bacteria may have obtained the ability to metabolize citrate."
   ]
  },
  {
   "cell_type": "markdown",
   "metadata": {},
   "source": [
    "Data set comes from:\n",
    "https://github.com/datacarpentry/R-genomics/blob/gh-pages/Ecoli_metadata.csv"
   ]
  },
  {
   "cell_type": "markdown",
   "metadata": {},
   "source": [
    "NIH BD2K Center for Big Data in Translational Genomics, UCSC Genomics Institute"
   ]
  }
 ],
 "metadata": {
  "kernelspec": {
   "display_name": "Python 2",
   "language": "python",
   "name": "python2"
  },
  "language_info": {
   "codemirror_mode": {
    "name": "ipython",
    "version": 2
   },
   "file_extension": ".py",
   "mimetype": "text/x-python",
   "name": "python",
   "nbconvert_exporter": "python",
   "pygments_lexer": "ipython2",
   "version": "2.7.12"
  }
 },
 "nbformat": 4,
 "nbformat_minor": 0
}
